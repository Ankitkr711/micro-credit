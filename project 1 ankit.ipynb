{
 "cells": [
  {
   "cell_type": "code",
   "execution_count": 1,
   "metadata": {},
   "outputs": [],
   "source": [
    "import pandas as pd\n",
    "from mpl_toolkits.mplot3d import Axes3D\n",
    "from sklearn.preprocessing import StandardScaler\n",
    "import matplotlib.pyplot as plt \n",
    "import numpy as np \n",
    "import seaborn as sns\n",
    "import os"
   ]
  },
  {
   "cell_type": "code",
   "execution_count": 2,
   "metadata": {},
   "outputs": [],
   "source": [
    "df=pd.read_csv(\"internship.csv\")"
   ]
  },
  {
   "cell_type": "code",
   "execution_count": 3,
   "metadata": {},
   "outputs": [
    {
     "data": {
      "text/html": [
       "<div>\n",
       "<style scoped>\n",
       "    .dataframe tbody tr th:only-of-type {\n",
       "        vertical-align: middle;\n",
       "    }\n",
       "\n",
       "    .dataframe tbody tr th {\n",
       "        vertical-align: top;\n",
       "    }\n",
       "\n",
       "    .dataframe thead th {\n",
       "        text-align: right;\n",
       "    }\n",
       "</style>\n",
       "<table border=\"1\" class=\"dataframe\">\n",
       "  <thead>\n",
       "    <tr style=\"text-align: right;\">\n",
       "      <th></th>\n",
       "      <th>Unnamed: 0</th>\n",
       "      <th>label</th>\n",
       "      <th>msisdn</th>\n",
       "      <th>aon</th>\n",
       "      <th>daily_decr30</th>\n",
       "      <th>daily_decr90</th>\n",
       "      <th>rental30</th>\n",
       "      <th>rental90</th>\n",
       "      <th>last_rech_date_ma</th>\n",
       "      <th>last_rech_date_da</th>\n",
       "      <th>...</th>\n",
       "      <th>maxamnt_loans30</th>\n",
       "      <th>medianamnt_loans30</th>\n",
       "      <th>cnt_loans90</th>\n",
       "      <th>amnt_loans90</th>\n",
       "      <th>maxamnt_loans90</th>\n",
       "      <th>medianamnt_loans90</th>\n",
       "      <th>payback30</th>\n",
       "      <th>payback90</th>\n",
       "      <th>pcircle</th>\n",
       "      <th>pdate</th>\n",
       "    </tr>\n",
       "  </thead>\n",
       "  <tbody>\n",
       "    <tr>\n",
       "      <th>0</th>\n",
       "      <td>1</td>\n",
       "      <td>0</td>\n",
       "      <td>21408I70789</td>\n",
       "      <td>272.0</td>\n",
       "      <td>3055.050000</td>\n",
       "      <td>3065.150000</td>\n",
       "      <td>220.13</td>\n",
       "      <td>260.13</td>\n",
       "      <td>2.0</td>\n",
       "      <td>0.0</td>\n",
       "      <td>...</td>\n",
       "      <td>6.0</td>\n",
       "      <td>0.0</td>\n",
       "      <td>2.0</td>\n",
       "      <td>12</td>\n",
       "      <td>6</td>\n",
       "      <td>0.0</td>\n",
       "      <td>29.000000</td>\n",
       "      <td>29.000000</td>\n",
       "      <td>UPW</td>\n",
       "      <td>20-07-2016</td>\n",
       "    </tr>\n",
       "    <tr>\n",
       "      <th>1</th>\n",
       "      <td>2</td>\n",
       "      <td>1</td>\n",
       "      <td>76462I70374</td>\n",
       "      <td>712.0</td>\n",
       "      <td>12122.000000</td>\n",
       "      <td>12124.750000</td>\n",
       "      <td>3691.26</td>\n",
       "      <td>3691.26</td>\n",
       "      <td>20.0</td>\n",
       "      <td>0.0</td>\n",
       "      <td>...</td>\n",
       "      <td>12.0</td>\n",
       "      <td>0.0</td>\n",
       "      <td>1.0</td>\n",
       "      <td>12</td>\n",
       "      <td>12</td>\n",
       "      <td>0.0</td>\n",
       "      <td>0.000000</td>\n",
       "      <td>0.000000</td>\n",
       "      <td>UPW</td>\n",
       "      <td>10-08-2016</td>\n",
       "    </tr>\n",
       "    <tr>\n",
       "      <th>2</th>\n",
       "      <td>3</td>\n",
       "      <td>1</td>\n",
       "      <td>17943I70372</td>\n",
       "      <td>535.0</td>\n",
       "      <td>1398.000000</td>\n",
       "      <td>1398.000000</td>\n",
       "      <td>900.13</td>\n",
       "      <td>900.13</td>\n",
       "      <td>3.0</td>\n",
       "      <td>0.0</td>\n",
       "      <td>...</td>\n",
       "      <td>6.0</td>\n",
       "      <td>0.0</td>\n",
       "      <td>1.0</td>\n",
       "      <td>6</td>\n",
       "      <td>6</td>\n",
       "      <td>0.0</td>\n",
       "      <td>0.000000</td>\n",
       "      <td>0.000000</td>\n",
       "      <td>UPW</td>\n",
       "      <td>19-08-2016</td>\n",
       "    </tr>\n",
       "    <tr>\n",
       "      <th>3</th>\n",
       "      <td>4</td>\n",
       "      <td>1</td>\n",
       "      <td>55773I70781</td>\n",
       "      <td>241.0</td>\n",
       "      <td>21.228000</td>\n",
       "      <td>21.228000</td>\n",
       "      <td>159.42</td>\n",
       "      <td>159.42</td>\n",
       "      <td>41.0</td>\n",
       "      <td>0.0</td>\n",
       "      <td>...</td>\n",
       "      <td>6.0</td>\n",
       "      <td>0.0</td>\n",
       "      <td>2.0</td>\n",
       "      <td>12</td>\n",
       "      <td>6</td>\n",
       "      <td>0.0</td>\n",
       "      <td>0.000000</td>\n",
       "      <td>0.000000</td>\n",
       "      <td>UPW</td>\n",
       "      <td>06-06-2016</td>\n",
       "    </tr>\n",
       "    <tr>\n",
       "      <th>4</th>\n",
       "      <td>5</td>\n",
       "      <td>1</td>\n",
       "      <td>03813I82730</td>\n",
       "      <td>947.0</td>\n",
       "      <td>150.619333</td>\n",
       "      <td>150.619333</td>\n",
       "      <td>1098.90</td>\n",
       "      <td>1098.90</td>\n",
       "      <td>4.0</td>\n",
       "      <td>0.0</td>\n",
       "      <td>...</td>\n",
       "      <td>6.0</td>\n",
       "      <td>0.0</td>\n",
       "      <td>7.0</td>\n",
       "      <td>42</td>\n",
       "      <td>6</td>\n",
       "      <td>0.0</td>\n",
       "      <td>2.333333</td>\n",
       "      <td>2.333333</td>\n",
       "      <td>UPW</td>\n",
       "      <td>22-06-2016</td>\n",
       "    </tr>\n",
       "    <tr>\n",
       "      <th>...</th>\n",
       "      <td>...</td>\n",
       "      <td>...</td>\n",
       "      <td>...</td>\n",
       "      <td>...</td>\n",
       "      <td>...</td>\n",
       "      <td>...</td>\n",
       "      <td>...</td>\n",
       "      <td>...</td>\n",
       "      <td>...</td>\n",
       "      <td>...</td>\n",
       "      <td>...</td>\n",
       "      <td>...</td>\n",
       "      <td>...</td>\n",
       "      <td>...</td>\n",
       "      <td>...</td>\n",
       "      <td>...</td>\n",
       "      <td>...</td>\n",
       "      <td>...</td>\n",
       "      <td>...</td>\n",
       "      <td>...</td>\n",
       "      <td>...</td>\n",
       "    </tr>\n",
       "    <tr>\n",
       "      <th>209588</th>\n",
       "      <td>209589</td>\n",
       "      <td>1</td>\n",
       "      <td>22758I85348</td>\n",
       "      <td>404.0</td>\n",
       "      <td>151.872333</td>\n",
       "      <td>151.872333</td>\n",
       "      <td>1089.19</td>\n",
       "      <td>1089.19</td>\n",
       "      <td>1.0</td>\n",
       "      <td>0.0</td>\n",
       "      <td>...</td>\n",
       "      <td>6.0</td>\n",
       "      <td>0.0</td>\n",
       "      <td>2.0</td>\n",
       "      <td>12</td>\n",
       "      <td>6</td>\n",
       "      <td>0.0</td>\n",
       "      <td>1.000000</td>\n",
       "      <td>1.000000</td>\n",
       "      <td>UPW</td>\n",
       "      <td>17-06-2016</td>\n",
       "    </tr>\n",
       "    <tr>\n",
       "      <th>209589</th>\n",
       "      <td>209590</td>\n",
       "      <td>1</td>\n",
       "      <td>95583I84455</td>\n",
       "      <td>1075.0</td>\n",
       "      <td>36.936000</td>\n",
       "      <td>36.936000</td>\n",
       "      <td>1728.36</td>\n",
       "      <td>1728.36</td>\n",
       "      <td>4.0</td>\n",
       "      <td>0.0</td>\n",
       "      <td>...</td>\n",
       "      <td>6.0</td>\n",
       "      <td>0.0</td>\n",
       "      <td>3.0</td>\n",
       "      <td>18</td>\n",
       "      <td>6</td>\n",
       "      <td>0.0</td>\n",
       "      <td>1.000000</td>\n",
       "      <td>1.000000</td>\n",
       "      <td>UPW</td>\n",
       "      <td>12-06-2016</td>\n",
       "    </tr>\n",
       "    <tr>\n",
       "      <th>209590</th>\n",
       "      <td>209591</td>\n",
       "      <td>1</td>\n",
       "      <td>28556I85350</td>\n",
       "      <td>1013.0</td>\n",
       "      <td>11843.111670</td>\n",
       "      <td>11904.350000</td>\n",
       "      <td>5861.83</td>\n",
       "      <td>8893.20</td>\n",
       "      <td>3.0</td>\n",
       "      <td>0.0</td>\n",
       "      <td>...</td>\n",
       "      <td>12.0</td>\n",
       "      <td>0.0</td>\n",
       "      <td>6.0</td>\n",
       "      <td>54</td>\n",
       "      <td>12</td>\n",
       "      <td>0.0</td>\n",
       "      <td>4.000000</td>\n",
       "      <td>3.833333</td>\n",
       "      <td>UPW</td>\n",
       "      <td>29-07-2016</td>\n",
       "    </tr>\n",
       "    <tr>\n",
       "      <th>209591</th>\n",
       "      <td>209592</td>\n",
       "      <td>1</td>\n",
       "      <td>59712I82733</td>\n",
       "      <td>1732.0</td>\n",
       "      <td>12488.228330</td>\n",
       "      <td>12574.370000</td>\n",
       "      <td>411.83</td>\n",
       "      <td>984.58</td>\n",
       "      <td>2.0</td>\n",
       "      <td>38.0</td>\n",
       "      <td>...</td>\n",
       "      <td>12.0</td>\n",
       "      <td>0.0</td>\n",
       "      <td>3.0</td>\n",
       "      <td>24</td>\n",
       "      <td>12</td>\n",
       "      <td>0.0</td>\n",
       "      <td>0.000000</td>\n",
       "      <td>10.500000</td>\n",
       "      <td>UPW</td>\n",
       "      <td>25-07-2016</td>\n",
       "    </tr>\n",
       "    <tr>\n",
       "      <th>209592</th>\n",
       "      <td>209593</td>\n",
       "      <td>1</td>\n",
       "      <td>65061I85339</td>\n",
       "      <td>1581.0</td>\n",
       "      <td>4489.362000</td>\n",
       "      <td>4534.820000</td>\n",
       "      <td>483.92</td>\n",
       "      <td>631.20</td>\n",
       "      <td>13.0</td>\n",
       "      <td>0.0</td>\n",
       "      <td>...</td>\n",
       "      <td>12.0</td>\n",
       "      <td>0.0</td>\n",
       "      <td>2.0</td>\n",
       "      <td>18</td>\n",
       "      <td>12</td>\n",
       "      <td>0.0</td>\n",
       "      <td>0.000000</td>\n",
       "      <td>0.000000</td>\n",
       "      <td>UPW</td>\n",
       "      <td>07-07-2016</td>\n",
       "    </tr>\n",
       "  </tbody>\n",
       "</table>\n",
       "<p>209593 rows × 37 columns</p>\n",
       "</div>"
      ],
      "text/plain": [
       "        Unnamed: 0  label       msisdn     aon  daily_decr30  daily_decr90  \\\n",
       "0                1      0  21408I70789   272.0   3055.050000   3065.150000   \n",
       "1                2      1  76462I70374   712.0  12122.000000  12124.750000   \n",
       "2                3      1  17943I70372   535.0   1398.000000   1398.000000   \n",
       "3                4      1  55773I70781   241.0     21.228000     21.228000   \n",
       "4                5      1  03813I82730   947.0    150.619333    150.619333   \n",
       "...            ...    ...          ...     ...           ...           ...   \n",
       "209588      209589      1  22758I85348   404.0    151.872333    151.872333   \n",
       "209589      209590      1  95583I84455  1075.0     36.936000     36.936000   \n",
       "209590      209591      1  28556I85350  1013.0  11843.111670  11904.350000   \n",
       "209591      209592      1  59712I82733  1732.0  12488.228330  12574.370000   \n",
       "209592      209593      1  65061I85339  1581.0   4489.362000   4534.820000   \n",
       "\n",
       "        rental30  rental90  last_rech_date_ma  last_rech_date_da  ...  \\\n",
       "0         220.13    260.13                2.0                0.0  ...   \n",
       "1        3691.26   3691.26               20.0                0.0  ...   \n",
       "2         900.13    900.13                3.0                0.0  ...   \n",
       "3         159.42    159.42               41.0                0.0  ...   \n",
       "4        1098.90   1098.90                4.0                0.0  ...   \n",
       "...          ...       ...                ...                ...  ...   \n",
       "209588   1089.19   1089.19                1.0                0.0  ...   \n",
       "209589   1728.36   1728.36                4.0                0.0  ...   \n",
       "209590   5861.83   8893.20                3.0                0.0  ...   \n",
       "209591    411.83    984.58                2.0               38.0  ...   \n",
       "209592    483.92    631.20               13.0                0.0  ...   \n",
       "\n",
       "        maxamnt_loans30  medianamnt_loans30  cnt_loans90  amnt_loans90  \\\n",
       "0                   6.0                 0.0          2.0            12   \n",
       "1                  12.0                 0.0          1.0            12   \n",
       "2                   6.0                 0.0          1.0             6   \n",
       "3                   6.0                 0.0          2.0            12   \n",
       "4                   6.0                 0.0          7.0            42   \n",
       "...                 ...                 ...          ...           ...   \n",
       "209588              6.0                 0.0          2.0            12   \n",
       "209589              6.0                 0.0          3.0            18   \n",
       "209590             12.0                 0.0          6.0            54   \n",
       "209591             12.0                 0.0          3.0            24   \n",
       "209592             12.0                 0.0          2.0            18   \n",
       "\n",
       "        maxamnt_loans90  medianamnt_loans90  payback30  payback90  pcircle  \\\n",
       "0                     6                 0.0  29.000000  29.000000      UPW   \n",
       "1                    12                 0.0   0.000000   0.000000      UPW   \n",
       "2                     6                 0.0   0.000000   0.000000      UPW   \n",
       "3                     6                 0.0   0.000000   0.000000      UPW   \n",
       "4                     6                 0.0   2.333333   2.333333      UPW   \n",
       "...                 ...                 ...        ...        ...      ...   \n",
       "209588                6                 0.0   1.000000   1.000000      UPW   \n",
       "209589                6                 0.0   1.000000   1.000000      UPW   \n",
       "209590               12                 0.0   4.000000   3.833333      UPW   \n",
       "209591               12                 0.0   0.000000  10.500000      UPW   \n",
       "209592               12                 0.0   0.000000   0.000000      UPW   \n",
       "\n",
       "             pdate  \n",
       "0       20-07-2016  \n",
       "1       10-08-2016  \n",
       "2       19-08-2016  \n",
       "3       06-06-2016  \n",
       "4       22-06-2016  \n",
       "...            ...  \n",
       "209588  17-06-2016  \n",
       "209589  12-06-2016  \n",
       "209590  29-07-2016  \n",
       "209591  25-07-2016  \n",
       "209592  07-07-2016  \n",
       "\n",
       "[209593 rows x 37 columns]"
      ]
     },
     "execution_count": 3,
     "metadata": {},
     "output_type": "execute_result"
    }
   ],
   "source": [
    "df"
   ]
  },
  {
   "cell_type": "code",
   "execution_count": 4,
   "metadata": {},
   "outputs": [
    {
     "data": {
      "text/plain": [
       "Unnamed: 0              0\n",
       "label                   0\n",
       "msisdn                  0\n",
       "aon                     0\n",
       "daily_decr30            0\n",
       "daily_decr90            0\n",
       "rental30                0\n",
       "rental90                0\n",
       "last_rech_date_ma       0\n",
       "last_rech_date_da       0\n",
       "last_rech_amt_ma        0\n",
       "cnt_ma_rech30           0\n",
       "fr_ma_rech30            0\n",
       "sumamnt_ma_rech30       0\n",
       "medianamnt_ma_rech30    0\n",
       "medianmarechprebal30    0\n",
       "cnt_ma_rech90           0\n",
       "fr_ma_rech90            0\n",
       "sumamnt_ma_rech90       0\n",
       "medianamnt_ma_rech90    0\n",
       "medianmarechprebal90    0\n",
       "cnt_da_rech30           0\n",
       "fr_da_rech30            0\n",
       "cnt_da_rech90           0\n",
       "fr_da_rech90            0\n",
       "cnt_loans30             0\n",
       "amnt_loans30            0\n",
       "maxamnt_loans30         0\n",
       "medianamnt_loans30      0\n",
       "cnt_loans90             0\n",
       "amnt_loans90            0\n",
       "maxamnt_loans90         0\n",
       "medianamnt_loans90      0\n",
       "payback30               0\n",
       "payback90               0\n",
       "pcircle                 0\n",
       "pdate                   0\n",
       "dtype: int64"
      ]
     },
     "execution_count": 4,
     "metadata": {},
     "output_type": "execute_result"
    }
   ],
   "source": [
    "df.isnull().sum()"
   ]
  },
  {
   "cell_type": "code",
   "execution_count": 5,
   "metadata": {},
   "outputs": [
    {
     "data": {
      "text/plain": [
       "False"
      ]
     },
     "execution_count": 5,
     "metadata": {},
     "output_type": "execute_result"
    }
   ],
   "source": [
    "df.isnull().values.any()"
   ]
  },
  {
   "cell_type": "markdown",
   "metadata": {},
   "source": [
    "# Variable\tDefinition\tComment\n",
    "#label\tFlag indicating whether the user paid back the credit amount within 5 days of issuing the loan{1:success, 0:failure}\t\n",
    "msisdn\tmobile number of user\t\n",
    "aon\tage on cellular network in days\t\n",
    "daily_decr30\tDaily amount spent from main account, averaged over last 30 days (in Indonesian Rupiah)\t\n",
    "daily_decr90\tDaily amount spent from main account, averaged over last 90 days (in Indonesian Rupiah)\t\n",
    "rental30\tAverage main account balance over last 30 days\tUnsure of given definition\n",
    "rental90\tAverage main account balance over last 90 days\tUnsure of given definition\n",
    "last_rech_date_ma\tNumber of days till last recharge of main account\t\n",
    "last_rech_date_da\tNumber of days till last recharge of data account\t\n",
    "last_rech_amt_ma\tAmount of last recharge of main account (in Indonesian Rupiah)\t\n",
    "cnt_ma_rech30\tNumber of times main account got recharged in last 30 days\t\n",
    "fr_ma_rech30\tFrequency of main account recharged in last 30 days\tUnsure of given definition\n",
    "sumamnt_ma_rech30\tTotal amount of recharge in main account over last 30 days (in Indonesian Rupiah)\t\n",
    "medianamnt_ma_rech30\tMedian of amount of recharges done in main account over last 30 days at user level (in Indonesian Rupiah)\t\n",
    "medianmarechprebal30\tMedian of main account balance just before recharge in last 30 days at user level (in Indonesian Rupiah)\t\n",
    "cnt_ma_rech90\tNumber of times main account got recharged in last 90 days\t\n",
    "fr_ma_rech90\tFrequency of main account recharged in last 90 days\tUnsure of given definition\n",
    "sumamnt_ma_rech90\tTotal amount of recharge in main account over last 90 days (in Indonasian Rupiah)\t\n",
    "medianamnt_ma_rech90\tMedian of amount of recharges done in main account over last 90 days at user level (in Indonasian Rupiah)\t\n",
    "medianmarechprebal90\tMedian of main account balance just before recharge in last 90 days at user level (in Indonasian Rupiah)\t\n",
    "cnt_da_rech30\tNumber of times data account got recharged in last 30 days\t\n",
    "fr_da_rech30\tFrequency of data account recharged in last 30 days\t\n",
    "cnt_da_rech90\tNumber of times data account got recharged in last 90 days\t\n",
    "fr_da_rech90\tFrequency of data account recharged in last 90 days\t\n",
    "cnt_loans30\tNumber of loans taken by user in last 30 days\t\n",
    "amnt_loans30\tTotal amount of loans taken by user in last 30 days\t\n",
    "maxamnt_loans30\tmaximum amount of loan taken by the user in last 30 days\tThere are only two options: 5 & 10 Rs., for which the user needs to pay back 6 & 12 Rs. respectively\n",
    "medianamnt_loans30\tMedian of amounts of loan taken by the user in last 30 days\t\n",
    "cnt_loans90\tNumber of loans taken by user in last 90 days\t\n",
    "amnt_loans90\tTotal amount of loans taken by user in last 90 days\t\n",
    "maxamnt_loans90\tmaximum amount of loan taken by the user in last 90 days\t\n",
    "medianamnt_loans90\tMedian of amounts of loan taken by the user in last 90 days\t\n",
    "payback30\tAverage payback time in days over last 30 days\t\n",
    "payback90\tAverage payback time in days over last 90 days\t\n",
    "pcircle\ttelecom circle\t\n",
    "pdate\tdate\t\n"
   ]
  },
  {
   "cell_type": "code",
   "execution_count": 7,
   "metadata": {},
   "outputs": [],
   "source": [
    "df.drop([\"msisdn\",\"pcircle\",\"pdate\"],axis=1,inplace=True)\n",
    "#dropping phone number column ,pcircle and date columns as they are not imp"
   ]
  },
  {
   "cell_type": "code",
   "execution_count": 8,
   "metadata": {},
   "outputs": [],
   "source": [
    "\n",
    "for i in df.columns:\n",
    "    df[i] = df[i].abs()\n",
    "#treating  any negative value"
   ]
  },
  {
   "cell_type": "markdown",
   "metadata": {},
   "source": [
    "# Visualization"
   ]
  },
  {
   "cell_type": "code",
   "execution_count": 9,
   "metadata": {},
   "outputs": [
    {
     "name": "stdout",
     "output_type": "stream",
     "text": [
      "6     180945\n",
      "12     26605\n",
      "0       2043\n",
      "Name: maxamnt_loans90, dtype: int64\n"
     ]
    },
    {
     "data": {
      "image/png": "[encoded data removed]",
      "text/plain": [
       "<Figure size 432x288 with 1 Axes>"
      ]
     },
     "metadata": {
      "needs_background": "light"
     },
     "output_type": "display_data"
    }
   ],
   "source": [
    "df[\"maxamnt_loans90\"].value_counts().plot(kind = \"bar\")\n",
    "print(df[\"maxamnt_loans90\"].value_counts())\n",
    "#people who have taken loan in 90 days as we can se that the maxium number of people have taken loan 6 times and after that is 12 times and the rest number of people have taken no loan . . "
   ]
  },
  {
   "cell_type": "code",
   "execution_count": 10,
   "metadata": {},
   "outputs": [
    {
     "data": {
      "text/plain": [
       "<AxesSubplot:xlabel='label', ylabel='daily_decr30'>"
      ]
     },
     "execution_count": 10,
     "metadata": {},
     "output_type": "execute_result"
    },
    {
     "data": {
      "image/png": "[encoded data removed]",
      "text/plain": [
       "<Figure size 432x288 with 1 Axes>"
      ]
     },
     "metadata": {
      "needs_background": "light"
     },
     "output_type": "display_data"
    }
   ],
   "source": [
    "sns.barplot(x=\"label\",y=\"daily_decr30\",data=df)\n",
    "# DAILY Amount spend is heighest for thge people who pay back the loan frequntly and the person who spends less amount daily is not paying back the loan \n",
    "# as per this also we can also get some rough idea  who we can give the loan "
   ]
  },
  {
   "cell_type": "code",
   "execution_count": 11,
   "metadata": {},
   "outputs": [
    {
     "data": {
      "text/plain": [
       "<AxesSubplot:xlabel='label', ylabel='daily_decr90'>"
      ]
     },
     "execution_count": 11,
     "metadata": {},
     "output_type": "execute_result"
    },
    {
     "data": {
      "image/png": "[encoded data removed]",
      "text/plain": [
       "<Figure size 432x288 with 1 Axes>"
      ]
     },
     "metadata": {
      "needs_background": "light"
     },
     "output_type": "display_data"
    }
   ],
   "source": [
    "sns.barplot(x=\"label\",y=\"daily_decr90\",data=df)\n",
    "#MENTION AS ABOVE "
   ]
  },
  {
   "cell_type": "code",
   "execution_count": 12,
   "metadata": {},
   "outputs": [
    {
     "data": {
      "text/plain": [
       "<AxesSubplot:xlabel='maxamnt_loans90', ylabel='label'>"
      ]
     },
     "execution_count": 12,
     "metadata": {},
     "output_type": "execute_result"
    },
    {
     "data": {
      "image/png": "[encoded data removed]",
      "text/plain": [
       "<Figure size 432x288 with 1 Axes>"
      ]
     },
     "metadata": {
      "needs_background": "light"
     },
     "output_type": "display_data"
    }
   ],
   "source": [
    "sns.barplot(x=\"maxamnt_loans90\",y=\"label\",data=df)\n",
    "#We should focus on the person that how many times the person has taken loan as per this graph we can come to know that the how many people not taken the loan and how many have taken the loan \n",
    "# how people who have taken "
   ]
  },
  {
   "cell_type": "code",
   "execution_count": 13,
   "metadata": {},
   "outputs": [],
   "source": [
    "failure_df=df.loc[df[\"label\"]== 0]"
   ]
  },
  {
   "cell_type": "code",
   "execution_count": 14,
   "metadata": {},
   "outputs": [],
   "source": [
    "succes_df=df.loc[df[\"label\"]== 1]"
   ]
  },
  {
   "cell_type": "code",
   "execution_count": 15,
   "metadata": {},
   "outputs": [
    {
     "data": {
      "text/plain": [
       "<AxesSubplot:xlabel='maxamnt_loans90', ylabel='label'>"
      ]
     },
     "execution_count": 15,
     "metadata": {},
     "output_type": "execute_result"
    },
    {
     "data": {
      "image/png": "[encoded data removed]",
      "text/plain": [
       "<Figure size 432x288 with 1 Axes>"
      ]
     },
     "metadata": {
      "needs_background": "light"
     },
     "output_type": "display_data"
    }
   ],
   "source": [
    "sns.barplot(x=\"maxamnt_loans90\",y=\"label\",data=succes_df)"
   ]
  },
  {
   "cell_type": "code",
   "execution_count": 16,
   "metadata": {},
   "outputs": [
    {
     "data": {
      "text/plain": [
       "<AxesSubplot:xlabel='label', ylabel='rental90'>"
      ]
     },
     "execution_count": 16,
     "metadata": {},
     "output_type": "execute_result"
    },
    {
     "data": {
      "image/png": "[encoded data removed]",
      "text/plain": [
       "<Figure size 432x288 with 1 Axes>"
      ]
     },
     "metadata": {
      "needs_background": "light"
     },
     "output_type": "display_data"
    }
   ],
   "source": [
    "sns.barplot(x=\"label\",y=\"rental90\",data=df)\n",
    "#as per this graph we can see that the number of people who are doing regular number of recharge payes the loan amount and the poeple who do less recharge have failure in the loan payment.\n",
    "# this recharge are of the people who have recharge their the phone under 90 days cycle."
   ]
  },
  {
   "cell_type": "code",
   "execution_count": 17,
   "metadata": {},
   "outputs": [
    {
     "data": {
      "text/plain": [
       "<AxesSubplot:xlabel='label', ylabel='rental30'>"
      ]
     },
     "execution_count": 17,
     "metadata": {},
     "output_type": "execute_result"
    },
    {
     "data": {
      "image/png": "[encoded data removed]",
      "text/plain": [
       "<Figure size 432x288 with 1 Axes>"
      ]
     },
     "metadata": {
      "needs_background": "light"
     },
     "output_type": "display_data"
    }
   ],
   "source": [
    "sns.barplot(x=\"label\",y=\"rental30\",data=df)"
   ]
  },
  {
   "cell_type": "code",
   "execution_count": 18,
   "metadata": {},
   "outputs": [
    {
     "data": {
      "text/plain": [
       "<AxesSubplot:xlabel='label', ylabel='sumamnt_ma_rech30'>"
      ]
     },
     "execution_count": 18,
     "metadata": {},
     "output_type": "execute_result"
    },
    {
     "data": {
      "image/png": "[encoded data removed]",
      "text/plain": [
       "<Figure size 432x288 with 1 Axes>"
      ]
     },
     "metadata": {
      "needs_background": "light"
     },
     "output_type": "display_data"
    }
   ],
   "source": [
    "sns.barplot(x=\"label\",y=\"sumamnt_ma_rech30\",data=df)\n",
    "#as we can se the the people who failed to pay the  loan amount have recharges less amount and the people who have paid the loan amount had done large amount of recharge."
   ]
  },
  {
   "cell_type": "code",
   "execution_count": 19,
   "metadata": {},
   "outputs": [
    {
     "data": {
      "text/plain": [
       "label                   1.000000\n",
       "cnt_ma_rech30           0.237331\n",
       "cnt_ma_rech90           0.236392\n",
       "sumamnt_ma_rech90       0.205793\n",
       "sumamnt_ma_rech30       0.202828\n",
       "amnt_loans90            0.199788\n",
       "amnt_loans30            0.197272\n",
       "cnt_loans30             0.196283\n",
       "daily_decr30            0.168298\n",
       "daily_decr90            0.166150\n",
       "medianamnt_ma_rech30    0.141490\n",
       "last_rech_amt_ma        0.131804\n",
       "medianamnt_ma_rech90    0.120855\n",
       "fr_ma_rech90            0.084385\n",
       "maxamnt_loans90         0.084144\n",
       "rental90                0.075521\n",
       "rental30                0.058085\n",
       "payback90               0.049183\n",
       "payback30               0.048336\n",
       "medianamnt_loans30      0.044589\n",
       "medianmarechprebal90    0.039300\n",
       "medianamnt_loans90      0.035747\n",
       "cnt_loans90             0.004733\n",
       "cnt_da_rech30           0.003827\n",
       "last_rech_date_ma       0.003728\n",
       "cnt_da_rech90           0.002999\n",
       "last_rech_date_da       0.001711\n",
       "fr_ma_rech30            0.001330\n",
       "Unnamed: 0              0.000403\n",
       "maxamnt_loans30         0.000248\n",
       "fr_da_rech30           -0.000027\n",
       "aon                    -0.003785\n",
       "medianmarechprebal30   -0.004829\n",
       "fr_da_rech90           -0.005418\n",
       "Name: label, dtype: float64"
      ]
     },
     "execution_count": 19,
     "metadata": {},
     "output_type": "execute_result"
    }
   ],
   "source": [
    "corr_matrix=df.corr()\n",
    "corr_matrix[\"label\"].sort_values(ascending=False)\n",
    "#finding which columns have positive and which have negative "
   ]
  },
  {
   "cell_type": "code",
   "execution_count": 10,
   "metadata": {},
   "outputs": [],
   "source": [
    "x_d=df.drop(\"label\",axis=1)\n",
    "y=df[\"label\"]"
   ]
  },
  {
   "cell_type": "code",
   "execution_count": 11,
   "metadata": {},
   "outputs": [
    {
     "name": "stdout",
     "output_type": "stream",
     "text": [
      "Counter({1: 183431, 0: 26162})\n"
     ]
    }
   ],
   "source": [
    "from collections import Counter\n",
    "print(format(Counter(y)))\n",
    "#imbalanced dataset"
   ]
  },
  {
   "cell_type": "code",
   "execution_count": 12,
   "metadata": {},
   "outputs": [],
   "source": [
    "from numpy import where\n",
    "from sklearn.datasets import make_classification\n",
    "from imblearn.under_sampling import NearMiss\n",
    "from matplotlib import pyplot"
   ]
  },
  {
   "cell_type": "code",
   "execution_count": 14,
   "metadata": {},
   "outputs": [],
   "source": [
    "undersample = NearMiss(version=1, n_neighbors=3)\n"
   ]
  },
  {
   "cell_type": "code",
   "execution_count": 15,
   "metadata": {},
   "outputs": [],
   "source": [
    "X, Y = undersample.fit_resample(x_d, y)\n"
   ]
  },
  {
   "cell_type": "code",
   "execution_count": 16,
   "metadata": {},
   "outputs": [
    {
     "name": "stdout",
     "output_type": "stream",
     "text": [
      "Counter({0: 26162, 1: 26162})\n"
     ]
    }
   ],
   "source": [
    "print(format(Counter(Y)))\n",
    "#now balanced"
   ]
  },
  {
   "cell_type": "code",
   "execution_count": 17,
   "metadata": {},
   "outputs": [],
   "source": [
    "from sklearn.preprocessing import StandardScaler\n",
    "sc=StandardScaler()\n",
    "sc.fit(X)\n",
    "x=sc.transform(X)\n",
    "x=pd.DataFrame(x,columns=X.columns)"
   ]
  },
  {
   "cell_type": "code",
   "execution_count": 19,
   "metadata": {},
   "outputs": [],
   "source": [
    "from sklearn.ensemble import RandomForestClassifier\n",
    "from sklearn.linear_model import LogisticRegression\n",
    "from sklearn.neighbors import KNeighborsClassifier\n",
    "from sklearn.tree import DecisionTreeClassifier\n",
    "from sklearn.metrics import accuracy_score,confusion_matrix,classification_report\n",
    "from sklearn.metrics import f1_score\n",
    "from sklearn import svm  \n",
    "from sklearn.metrics import precision_score\n",
    "from sklearn.model_selection import cross_val_score\n",
    "from sklearn.metrics import recall_score\n"
   ]
  },
  {
   "cell_type": "code",
   "execution_count": 21,
   "metadata": {},
   "outputs": [],
   "source": [
    "from sklearn.model_selection import train_test_split\n",
    "\n",
    "X_train,X_test,Y_train,Y_test=train_test_split(x,Y,random_state = 47,test_size=0.20)"
   ]
  },
  {
   "cell_type": "code",
   "execution_count": 26,
   "metadata": {},
   "outputs": [
    {
     "name": "stdout",
     "output_type": "stream",
     "text": [
      "Score of DecisionTreeClassifier() is 0.7970377448638318\n",
      "Cross val score: 0.524325922216329\n",
      "\n",
      "\n",
      "Score of GradientBoostingClassifier() is 0.8457716196846632\n",
      "Cross val score: 0.5262754470632413\n",
      "\n",
      "\n"
     ]
    }
   ],
   "source": [
    "model1=[DecisionTreeClassifier(),GradientBoostingClassifier()]\n",
    "for m in model1:\n",
    "    m.fit(X_train,Y_train)\n",
    "    predm=m.predict(X_test)\n",
    "    print(\"Score of\",m,\"is\",accuracy_score(Y_test,predm))\n",
    "    print(\"Cross val score:\",cross_val_score(m,x,Y,cv=5,scoring=\"accuracy\").mean())\n",
    "    print(\"\\n\")"
   ]
  },
  {
   "cell_type": "code",
   "execution_count": 23,
   "metadata": {},
   "outputs": [
    {
     "name": "stdout",
     "output_type": "stream",
     "text": [
      "Score of SVC() is 0.7478260869565218\n",
      "Cross val score: 0.6301507025749148\n",
      "\n",
      "\n",
      "Score of KNeighborsClassifier() is 0.737505972288581\n",
      "Cross val score: 0.5550806642499901\n",
      "\n",
      "\n"
     ]
    }
   ],
   "source": [
    "model2=[svm.SVC(),KNeighborsClassifier()]\n",
    "for m in model2:\n",
    "    m.fit(X_train,Y_train)\n",
    "    predm=m.predict(X_test)\n",
    "    print(\"Score of\",m,\"is\",accuracy_score(Y_test,predm))\n",
    "    print(\"Cross val score:\",cross_val_score(m,x,Y,cv=5,scoring=\"accuracy\").mean())\n",
    "    print(\"\\n\")"
   ]
  },
  {
   "cell_type": "code",
   "execution_count": 31,
   "metadata": {},
   "outputs": [
    {
     "name": "stdout",
     "output_type": "stream",
     "text": [
      "Accuracy score is: 0.8457716196846632\n",
      "F1 score is: 0.8448581765483789\n",
      "Precision score is: 0.8509839088198705\n",
      "Recall score is: 0.8446613289248285\n"
     ]
    }
   ],
   "source": [
    "gbc=GradientBoostingClassifier(learning_rate=0.1,random_state=42)\n",
    "gbc.fit(X_train,Y_train)\n",
    "predgb=gbc.predict(X_test)\n",
    "print(\"Accuracy score is:\",accuracy_score(Y_test,predgb))\n",
    "print(\"F1 score is:\",f1_score(Y_test,predgb,average='macro'))\n",
    "print('Precision score is:',precision_score(Y_test, predgb, average='macro'))\n",
    "print(\"Recall score is:\",recall_score(Y_test,predgb,average=\"macro\"))"
   ]
  },
  {
   "cell_type": "code",
   "execution_count": 32,
   "metadata": {},
   "outputs": [
    {
     "name": "stdout",
     "output_type": "stream",
     "text": [
      "Confusion matrix \n",
      " [[4024 1114]\n",
      " [ 500 4827]]\n",
      "classification report \n",
      "               precision    recall  f1-score   support\n",
      "\n",
      "           0       0.89      0.78      0.83      5138\n",
      "           1       0.81      0.91      0.86      5327\n",
      "\n",
      "    accuracy                           0.85     10465\n",
      "   macro avg       0.85      0.84      0.84     10465\n",
      "weighted avg       0.85      0.85      0.85     10465\n",
      "\n"
     ]
    }
   ],
   "source": [
    "from sklearn.metrics import confusion_matrix\n",
    "from sklearn.metrics import classification_report\n",
    "print(\"Confusion matrix \\n\",confusion_matrix(Y_test,predgb))\n",
    "print(\"classification report \\n\",classification_report(Y_test,predgb))"
   ]
  },
  {
   "cell_type": "code",
   "execution_count": null,
   "metadata": {},
   "outputs": [],
   "source": []
  }
 ],
 "metadata": {
  "kernelspec": {
   "display_name": "Python 3",
   "language": "python",
   "name": "python3"
  },
  "language_info": {
   "codemirror_mode": {
    "name": "ipython",
    "version": 3
   },
   "file_extension": ".py",
   "mimetype": "text/x-python",
   "name": "python",
   "nbconvert_exporter": "python",
   "pygments_lexer": "ipython3",
   "version": "3.8.3"
  }
 },
 "nbformat": 4,
 "nbformat_minor": 4
}
